{
 "cells": [
  {
   "cell_type": "code",
   "execution_count": 1,
   "metadata": {},
   "outputs": [
    {
     "name": "stdout",
     "output_type": "stream",
     "text": [
      "Requirement already satisfied: scikit-learn in c:\\users\\soumita\\anaconda3\\lib\\site-packages (0.21.3)\n",
      "Requirement already satisfied: matplotlib in c:\\users\\soumita\\anaconda3\\lib\\site-packages (3.1.1)\n",
      "Requirement already satisfied: seaborn in c:\\users\\soumita\\anaconda3\\lib\\site-packages (0.9.0)\n",
      "Requirement already satisfied: numpy>=1.11.0 in c:\\users\\soumita\\anaconda3\\lib\\site-packages (from scikit-learn) (1.16.5)\n",
      "Requirement already satisfied: scipy>=0.17.0 in c:\\users\\soumita\\anaconda3\\lib\\site-packages (from scikit-learn) (1.3.1)\n",
      "Requirement already satisfied: joblib>=0.11 in c:\\users\\soumita\\anaconda3\\lib\\site-packages (from scikit-learn) (0.13.2)\n",
      "Requirement already satisfied: cycler>=0.10 in c:\\users\\soumita\\anaconda3\\lib\\site-packages (from matplotlib) (0.10.0)\n",
      "Requirement already satisfied: kiwisolver>=1.0.1 in c:\\users\\soumita\\anaconda3\\lib\\site-packages (from matplotlib) (1.1.0)\n",
      "Requirement already satisfied: pyparsing!=2.0.4,!=2.1.2,!=2.1.6,>=2.0.1 in c:\\users\\soumita\\anaconda3\\lib\\site-packages (from matplotlib) (2.4.2)\n",
      "Requirement already satisfied: python-dateutil>=2.1 in c:\\users\\soumita\\anaconda3\\lib\\site-packages (from matplotlib) (2.8.0)\n",
      "Requirement already satisfied: pandas>=0.15.2 in c:\\users\\soumita\\anaconda3\\lib\\site-packages (from seaborn) (0.25.1)\n",
      "Requirement already satisfied: six in c:\\users\\soumita\\anaconda3\\lib\\site-packages (from cycler>=0.10->matplotlib) (1.12.0)\n",
      "Requirement already satisfied: setuptools in c:\\users\\soumita\\anaconda3\\lib\\site-packages (from kiwisolver>=1.0.1->matplotlib) (41.4.0)\n",
      "Requirement already satisfied: pytz>=2017.2 in c:\\users\\soumita\\anaconda3\\lib\\site-packages (from pandas>=0.15.2->seaborn) (2019.3)\n"
     ]
    }
   ],
   "source": [
    "# Customer Lifetime Value Prediction\n",
    "!pip install scikit-learn matplotlib seaborn"
   ]
  },
  {
   "cell_type": "code",
   "execution_count": 2,
   "metadata": {},
   "outputs": [],
   "source": [
    "#Import libraries as per requirement\n",
    "import pandas as pd \n",
    "import numpy as np\n",
    "import matplotlib.pyplot as plt\n",
    "import seaborn as sns"
   ]
  },
  {
   "cell_type": "code",
   "execution_count": 3,
   "metadata": {},
   "outputs": [
    {
     "data": {
      "text/html": [
       "<div>\n",
       "<style scoped>\n",
       "    .dataframe tbody tr th:only-of-type {\n",
       "        vertical-align: middle;\n",
       "    }\n",
       "\n",
       "    .dataframe tbody tr th {\n",
       "        vertical-align: top;\n",
       "    }\n",
       "\n",
       "    .dataframe thead th {\n",
       "        text-align: right;\n",
       "    }\n",
       "</style>\n",
       "<table border=\"1\" class=\"dataframe\">\n",
       "  <thead>\n",
       "    <tr style=\"text-align: right;\">\n",
       "      <th></th>\n",
       "      <th>customer_id</th>\n",
       "      <th>purchase_history</th>\n",
       "      <th>tenure</th>\n",
       "      <th>total_spent</th>\n",
       "      <th>CLV</th>\n",
       "    </tr>\n",
       "  </thead>\n",
       "  <tbody>\n",
       "    <tr>\n",
       "      <td>0</td>\n",
       "      <td>C1000</td>\n",
       "      <td>39</td>\n",
       "      <td>37</td>\n",
       "      <td>1111.72</td>\n",
       "      <td>3427.80</td>\n",
       "    </tr>\n",
       "    <tr>\n",
       "      <td>1</td>\n",
       "      <td>C1001</td>\n",
       "      <td>29</td>\n",
       "      <td>36</td>\n",
       "      <td>8556.68</td>\n",
       "      <td>25670.04</td>\n",
       "    </tr>\n",
       "    <tr>\n",
       "      <td>2</td>\n",
       "      <td>C1002</td>\n",
       "      <td>15</td>\n",
       "      <td>24</td>\n",
       "      <td>5317.54</td>\n",
       "      <td>10635.08</td>\n",
       "    </tr>\n",
       "    <tr>\n",
       "      <td>3</td>\n",
       "      <td>C1003</td>\n",
       "      <td>43</td>\n",
       "      <td>31</td>\n",
       "      <td>8276.62</td>\n",
       "      <td>21381.27</td>\n",
       "    </tr>\n",
       "    <tr>\n",
       "      <td>4</td>\n",
       "      <td>C1004</td>\n",
       "      <td>8</td>\n",
       "      <td>6</td>\n",
       "      <td>3053.91</td>\n",
       "      <td>1526.96</td>\n",
       "    </tr>\n",
       "  </tbody>\n",
       "</table>\n",
       "</div>"
      ],
      "text/plain": [
       "  customer_id  purchase_history  tenure  total_spent       CLV\n",
       "0       C1000                39      37      1111.72   3427.80\n",
       "1       C1001                29      36      8556.68  25670.04\n",
       "2       C1002                15      24      5317.54  10635.08\n",
       "3       C1003                43      31      8276.62  21381.27\n",
       "4       C1004                 8       6      3053.91   1526.96"
      ]
     },
     "execution_count": 3,
     "metadata": {},
     "output_type": "execute_result"
    }
   ],
   "source": [
    "# Load the dataset\n",
    "data=pd.read_csv(\"21_customer_lifetime_value.csv\")\n",
    "data.head()"
   ]
  },
  {
   "cell_type": "code",
   "execution_count": 4,
   "metadata": {},
   "outputs": [],
   "source": [
    "X=data[['purchase_history','tenure','total_spent']] #Features\n",
    "y=data[['CLV']] #Target\n",
    "# Split into Training Data and Testing Data\n",
    "from sklearn.model_selection import train_test_split\n",
    "X_train,X_test,y_train,y_test = train_test_split(X,y,test_size=0.2,random_state=0)"
   ]
  },
  {
   "cell_type": "code",
   "execution_count": 5,
   "metadata": {},
   "outputs": [
    {
     "data": {
      "text/plain": [
       "LinearRegression(copy_X=True, fit_intercept=True, n_jobs=None, normalize=False)"
      ]
     },
     "execution_count": 5,
     "metadata": {},
     "output_type": "execute_result"
    }
   ],
   "source": [
    "# Linear Regression\n",
    "from sklearn.linear_model import LinearRegression\n",
    "model= LinearRegression()\n",
    "model.fit(X_train,y_train)"
   ]
  },
  {
   "cell_type": "code",
   "execution_count": 6,
   "metadata": {},
   "outputs": [
    {
     "name": "stdout",
     "output_type": "stream",
     "text": [
      "Coefficient: [[ -2.55180952 440.27429149   2.54451595]]\n",
      "Intercept: [-13413.82152459]\n"
     ]
    }
   ],
   "source": [
    "print(\"Coefficient:\",model.coef_)\n",
    "print(\"Intercept:\",model.intercept_)"
   ]
  },
  {
   "cell_type": "code",
   "execution_count": 7,
   "metadata": {},
   "outputs": [],
   "source": [
    "# Make Predictions\n",
    "y_pred=model.predict(X_test)"
   ]
  },
  {
   "cell_type": "code",
   "execution_count": 8,
   "metadata": {},
   "outputs": [
    {
     "name": "stdout",
     "output_type": "stream",
     "text": [
      "Mean Squred Error: 16630405.933774486\n",
      "R square score: 0.8417185689952879\n"
     ]
    }
   ],
   "source": [
    "# Evaluate the model\n",
    "from sklearn.metrics import mean_squared_error, r2_score\n",
    "print(\"Mean Squred Error:\",mean_squared_error(y_test,y_pred))\n",
    "print(\"R square score:\",r2_score(y_test,y_pred))"
   ]
  },
  {
   "cell_type": "code",
   "execution_count": 9,
   "metadata": {},
   "outputs": [
    {
     "name": "stdout",
     "output_type": "stream",
     "text": [
      "[[  8827.69125631]\n",
      " [  8142.16690323]\n",
      " [ 20012.54881493]\n",
      " [ -7840.50195209]\n",
      " [ 23806.17221813]\n",
      " [ 10477.96298052]\n",
      " [  2614.128681  ]\n",
      " [  8729.55087769]\n",
      " [   889.89632551]\n",
      " [   117.28303029]\n",
      " [  3039.62974167]\n",
      " [ 22974.58212439]\n",
      " [ 25038.72927358]\n",
      " [  9613.37659008]\n",
      " [  9140.21217293]\n",
      " [ 14087.70687733]\n",
      " [ 17027.92017185]\n",
      " [ 22243.78546244]\n",
      " [ 21585.11052706]\n",
      " [ -8917.83865268]\n",
      " [ -7634.70565731]\n",
      " [ 23536.23763695]\n",
      " [ -5116.09094411]\n",
      " [  6306.9343467 ]\n",
      " [  1483.56479977]\n",
      " [  9443.03174737]\n",
      " [ 16693.53140016]\n",
      " [ 14889.88927124]\n",
      " [ 20483.46316804]\n",
      " [ 24134.65922114]\n",
      " [ 25607.78076183]\n",
      " [ 17271.87139427]\n",
      " [ 18440.20079682]\n",
      " [ -4918.47808135]\n",
      " [ 35641.27186928]\n",
      " [  2343.35922099]\n",
      " [  7161.29511721]\n",
      " [ 14880.48699412]\n",
      " [ 17647.61603355]\n",
      " [ 12838.68605078]\n",
      " [  7847.36605975]\n",
      " [  4997.63447431]\n",
      " [ 13281.99871967]\n",
      " [ 21247.48407098]\n",
      " [ 12819.80113861]\n",
      " [ 15740.28884254]\n",
      " [  8993.72618456]\n",
      " [  4636.64159932]\n",
      " [ 27485.42615086]\n",
      " [ 23232.38482037]\n",
      " [ 20798.50991796]\n",
      " [  3063.54890409]\n",
      " [  9829.05345903]\n",
      " [ -6059.60776468]\n",
      " [ 11925.032765  ]\n",
      " [  8888.80248042]\n",
      " [ 14597.58506069]\n",
      " [ 21310.413288  ]\n",
      " [  3042.51305918]\n",
      " [ 19032.11018983]\n",
      " [ 14113.45903741]\n",
      " [  -592.6381294 ]\n",
      " [  9966.19966561]\n",
      " [ 16434.51644755]\n",
      " [ 32163.1093733 ]\n",
      " [ 20347.3940601 ]\n",
      " [ 30780.47327081]\n",
      " [ 19918.30076765]\n",
      " [ 15825.5822952 ]\n",
      " [   -38.96476805]\n",
      " [ 18553.81085516]\n",
      " [ 11145.27183353]\n",
      " [ -2092.92024946]\n",
      " [  2359.6363379 ]\n",
      " [ 16579.96936097]\n",
      " [ 13251.00776582]\n",
      " [  3163.72627515]\n",
      " [ 28791.41106063]\n",
      " [ -3992.25893596]\n",
      " [  6278.39953047]\n",
      " [  7098.09003181]\n",
      " [ 12606.89864066]\n",
      " [ 31394.08722265]\n",
      " [  -401.9680887 ]\n",
      " [  3783.2264238 ]\n",
      " [ 27547.1342867 ]\n",
      " [ 29028.21470645]\n",
      " [ 11126.9259416 ]\n",
      " [ -1798.80759738]\n",
      " [  8560.55074052]\n",
      " [ 25971.05744699]\n",
      " [  8684.25185401]\n",
      " [-11610.55578189]\n",
      " [ 18566.33245832]\n",
      " [ -1488.90344508]\n",
      " [ 15057.90545755]\n",
      " [  8758.11218782]\n",
      " [ 16017.06067886]\n",
      " [  7520.71408196]\n",
      " [  7125.93037297]\n",
      " [ 23730.83675834]\n",
      " [ 11464.17405789]\n",
      " [ -5628.19323119]\n",
      " [ 21469.32246415]\n",
      " [ 19859.88949658]\n",
      " [ 11241.47392905]\n",
      " [ 11619.57346321]\n",
      " [ 13196.23937919]\n",
      " [  1396.69509334]\n",
      " [ 10371.60241212]\n",
      " [ 12721.56784089]\n",
      " [  5183.05855195]\n",
      " [  1065.39067289]\n",
      " [ 17353.1290977 ]\n",
      " [  4962.52018529]\n",
      " [ 33367.57231742]\n",
      " [  3819.29095112]\n",
      " [ 17509.0915375 ]\n",
      " [ 15639.83920267]\n",
      " [ -3408.21749689]\n",
      " [  8024.44117993]\n",
      " [ 29894.16885024]\n",
      " [  5279.47562049]\n",
      " [ 21949.44125621]\n",
      " [ 23430.60372614]\n",
      " [  7176.88466451]\n",
      " [  2317.70906339]\n",
      " [ 13493.56734244]\n",
      " [ 17323.25363444]\n",
      " [ 18422.43624973]\n",
      " [ 15720.29509289]\n",
      " [  7731.21979578]\n",
      " [ 22827.84001733]\n",
      " [ 14294.7965983 ]\n",
      " [ 16042.90250033]\n",
      " [  7574.88688865]\n",
      " [   506.35545212]\n",
      " [ -5066.61381544]\n",
      " [  -680.80253417]\n",
      " [ 16014.55626919]\n",
      " [ 16948.9861462 ]\n",
      " [  8960.94677256]\n",
      " [ -1379.41576983]\n",
      " [ 23910.93867606]\n",
      " [  5378.2636986 ]\n",
      " [ 12270.47209754]\n",
      " [ -1198.32168665]\n",
      " [ 22655.43659635]\n",
      " [   633.2993504 ]\n",
      " [  1781.35130196]\n",
      " [ 17635.66267124]\n",
      " [ 12843.04493305]\n",
      " [ 17219.77236045]\n",
      " [ 37041.76785796]\n",
      " [ 14779.27278106]\n",
      " [ 11885.31901925]\n",
      " [ 21442.51360141]\n",
      " [ 22765.42853397]\n",
      " [ 11527.53871879]\n",
      " [ 18523.25209923]\n",
      " [  7019.68993099]\n",
      " [ 13191.4306045 ]\n",
      " [  7216.33250901]\n",
      " [ 10696.23058135]\n",
      " [ 23245.01775804]\n",
      " [ 23158.39782882]\n",
      " [ 10549.33249773]\n",
      " [ -5949.7790947 ]\n",
      " [ 15169.19594785]\n",
      " [ 11930.75249516]\n",
      " [ 12321.60515805]\n",
      " [ 21383.68030558]\n",
      " [ 24753.68743104]\n",
      " [ 11997.48854819]\n",
      " [ 28415.35465714]\n",
      " [ 33261.30747217]\n",
      " [  5718.00329026]\n",
      " [ 28068.10054409]\n",
      " [ 19709.11751478]\n",
      " [ 20564.20039776]\n",
      " [ -1818.05149709]\n",
      " [ 15031.73772508]\n",
      " [ -8722.25914737]\n",
      " [  8738.78380702]\n",
      " [ 19569.8893813 ]\n",
      " [  6288.47957974]\n",
      " [ 22994.58035266]\n",
      " [ 26390.0862773 ]\n",
      " [ 30515.17497468]\n",
      " [ 10148.92445732]\n",
      " [ 11899.68065232]\n",
      " [ 12774.61307715]\n",
      " [  9831.22220806]\n",
      " [  8826.46213457]\n",
      " [  9409.95257952]\n",
      " [  3947.07291206]\n",
      " [  7445.90129153]\n",
      " [  9839.10360968]\n",
      " [ 15817.76231501]\n",
      " [ 18682.65356387]]\n"
     ]
    }
   ],
   "source": [
    "print(y_pred)"
   ]
  },
  {
   "cell_type": "code",
   "execution_count": 10,
   "metadata": {},
   "outputs": [
    {
     "name": "stdout",
     "output_type": "stream",
     "text": [
      "          CLV\n",
      "993   9256.65\n",
      "859   3170.17\n",
      "298  17685.30\n",
      "553    566.37\n",
      "672  24887.06\n",
      "..        ...\n",
      "679   5464.86\n",
      "722   2283.45\n",
      "215   7465.34\n",
      "653  14483.39\n",
      "150  15840.93\n",
      "\n",
      "[200 rows x 1 columns]\n"
     ]
    }
   ],
   "source": [
    "print(y_test)"
   ]
  },
  {
   "cell_type": "code",
   "execution_count": 11,
   "metadata": {},
   "outputs": [
    {
     "data": {
      "image/png": "[encoded data removed]",
      "text/plain": [
       "<Figure size 432x288 with 1 Axes>"
      ]
     },
     "metadata": {
      "needs_background": "light"
     },
     "output_type": "display_data"
    }
   ],
   "source": [
    "# Plotting\n",
    "plt.scatter(y_test,y_pred)\n",
    "plt.xlabel(\"Actual CLV\")\n",
    "plt.ylabel(\"Predicted CLV\")\n",
    "plt.title(\"Actual vs Predicted CLV\")\n",
    "plt.plot([y.min(),y.max()], [y.min(),y.max()],color='red',linestyle='-')\n",
    "plt.show()"
   ]
  },
  {
   "cell_type": "code",
   "execution_count": 12,
   "metadata": {},
   "outputs": [
    {
     "name": "stdout",
     "output_type": "stream",
     "text": [
      "[303125.64013889]\n"
     ]
    }
   ],
   "source": [
    "# Predicting a new Customer Liftime Value\n",
    "new_CLV=pd.DataFrame({'purchase_history':[47],'tenure':[20],'total_spent':[120987.22]})\n",
    "CLV=model.predict(new_CLV)\n",
    "print(CLV[0])"
   ]
  },
  {
   "cell_type": "code",
   "execution_count": null,
   "metadata": {},
   "outputs": [],
   "source": []
  }
 ],
 "metadata": {
  "kernelspec": {
   "display_name": "Python 3",
   "language": "python",
   "name": "python3"
  },
  "language_info": {
   "codemirror_mode": {
    "name": "ipython",
    "version": 3
   },
   "file_extension": ".py",
   "mimetype": "text/x-python",
   "name": "python",
   "nbconvert_exporter": "python",
   "pygments_lexer": "ipython3",
   "version": "3.7.4"
  }
 },
 "nbformat": 4,
 "nbformat_minor": 2
}
